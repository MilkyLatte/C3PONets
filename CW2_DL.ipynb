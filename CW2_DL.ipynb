{
 "cells": [
  {
   "cell_type": "markdown",
   "metadata": {},
   "source": [
    "#  CM50265 Machine Learning 2\n",
    "\n",
    "## Coursework 2: Deep learning\n",
    "### Youssef Alami Mejjati, Jordan Taylor, Jake Deane and Mohammad Golbabaee\n",
    "\n",
    "\n",
    "This coursework is worth 75 points from the overall mark of 100 for this unit. Marks are given beside each task. The report will be your main method of assessment. __Students should form groups of 3 individuals and submit one report per group.__ For this coursework students can choose their partners until __20th February__.  Each group will receive a total mark for this course work and individuals in that group will share this mark (with weights) according to their contributions.  \n",
    "\n",
    "- The __submission deadline__ for your report is\n",
    "__17th May 2020, 12:00: online Moodle submission of your final report__\n",
    "\n",
    "The main part of your report should not exceed __3000 word limit__. After the main part please attach a Table of individuals’ contributions and appendices including ONLY the codes (these are excluded from the word limit). The report should be submitted in PDF format. __Table of contributions__ should include both students’ names/university IDs, the list of contributions of each student, and finally the contribution percentage for each student. This percentage should be agreed between both individuals and it will be used to weigh their marks. We highly encourage individuals to evenly share the workload. Further, you should __include all codes__ relevant to your implementations as an appendix or appendices with a clear referencing to the main body of your report. Codes must be well commented (indicating major steps).\n",
    "\n",
    "First and foremost your report should demonstrate and evaluate your results. It must include figures and screenshots with appropriate resolutions. Evaluation can be qualitative (how it looks) and, wherever possible, quantitative (tested numerically). Second you should provide evidence that you understood the mathematics behind the assignment in each task/question. You should concisely explain your approach to solve each task/question, and the choices you make (e.g. hyper-parameters etc) for each part.\n",
    "\n",
    "Usual university rules apply, please check your MSc program handbook, particularly regarding plagiarism and delayed deliveries. \n",
    "\n",
    "__Note:__ All tasks should be implemented in TensorFlow. Guidelines below (tasks 3-5, 7) should work for a TensorFlow version 1. If you use TF v2 please note that some syntaxes have changed during the recent update, but you can still use version compatiblity to resolve the issue. The list includes but might not be limited to:\n",
    "\n",
    "tf.layers.conv2d -> tf.nn.conv2d\n",
    "\n",
    "tf.layers.dense -> tf.nn.dense\n",
    "\n",
    "tf.layers.flatten -> tf.compat.v1.layers.flatten\n",
    "\n",
    "tf.variable_scope -> tf.compat.v1.variable_scope\n",
    "\n",
    "tf.get_collection -> tf.compat.v1.get_collection\n",
    "\n",
    "similarly for tf.compat.v1.InteractiveSession, tf.compat.v1.train.AdamOptimizer, tf.compat.v1.placeholder, tf.compat.v1.global_variables_initializer, tf.compat.v1.local_variables_initializer, tf.compat.v1.train.Saver, tf.compat.v1.summary.FileWriter, tf.compat.v1.trainable_variables\n",
    "\n",
    "See TF web documentation in case you encounter version incompatibility. \n",
    "\n",
    "Guides on tasks 6 and 8 should be already compatible with TF2. \n",
    "\n",
    "\n",
    "## The coursework \n"
   ]
  },
  {
   "cell_type": "code",
   "execution_count": 54,
   "metadata": {},
   "outputs": [],
   "source": [
    "import warnings\n",
    "warnings.filterwarnings('ignore')\n",
    "\n",
    "try:\n",
    "    import tensorflow.compat.v1 as tf\n",
    "    tf.disable_eager_execution()\n",
    "except:\n",
    "    import tensorflow as tf\n",
    "    \n",
    "# import tensorflow as tf # This may laod Tensorflow 2.0.0 if that is the verison of the package on your distribution\n",
    "#use import tensorflow.compat.v1 as tf for tensorflow 1\n",
    "# tf.disable_v2_behaviour() # Only needed if using tensorflow 1 with tensorflow 2 being the package avlaiable  \n",
    "import numpy as np\n",
    "import matplotlib.pyplot as plt\n",
    "import os\n",
    "from IPython.display import Image\n",
    "from sklearn.metrics import mean_absolute_error\n",
    "%matplotlib inline\n",
    "\n"
   ]
  },
  {
   "cell_type": "code",
   "execution_count": 3,
   "metadata": {
    "scrolled": false
   },
   "outputs": [],
   "source": [
    "mnist = tf.keras.datasets.mnist\n",
    "(x_train, y_train),(x_test, y_test) = mnist.load_data()\n",
    "n_train = x_train.shape[0]\n",
    "n_test = x_test.shape[0]"
   ]
  },
  {
   "cell_type": "markdown",
   "metadata": {},
   "source": [
    "We scale the data to be in $[-1,1]$."
   ]
  },
  {
   "cell_type": "code",
   "execution_count": 4,
   "metadata": {},
   "outputs": [],
   "source": [
    "x_train, x_test = x_train / 127.5 - 1, x_test / 127.5 - 1"
   ]
  },
  {
   "cell_type": "markdown",
   "metadata": {},
   "source": [
    "The size of each data points is $28 \\times 28$. While this format will be useful when using CNNs, we will vectorize the datapoints for visualization and preliminary questions."
   ]
  },
  {
   "cell_type": "code",
   "execution_count": 5,
   "metadata": {},
   "outputs": [],
   "source": [
    "nb_features = np.prod(x_train.shape[1:])\n",
    "x_train.resize((n_train, nb_features))\n",
    "x_test.resize((n_test, nb_features))"
   ]
  },
  {
   "cell_type": "markdown",
   "metadata": {},
   "source": [
    "### 1. Data visualisation (5 points)\n",
    "Project the training data points in a 2D space using PCA. Use the obtained 2D embedding and plot the training data-points with different markers or colors for each class (you are allowed to use PCA from scikit learn). \n",
    "- Why PCA is a good option to visualize data? \n",
    "- Add this plot in your report and discuss your observations. \n",
    "- Which classes can be linearly separated?\n"
   ]
  },
  {
   "cell_type": "code",
   "execution_count": null,
   "metadata": {},
   "outputs": [],
   "source": []
  },
  {
   "cell_type": "markdown",
   "metadata": {},
   "source": [
    "### 2. Perceptrons: (10 points)\n",
    "Single Layer Perceptron is one of the most basic binary classifiers one can use. In this part of the CW you should implement an iterative algorithm for training the Single Layer Perceptron.\n",
    "\n",
    "As we are dealing with a binary classification problem, we will pick data points corresponding to classes 0 and 1 (handwritten digits). In addition we choose our binary labels to be -1 and 1, respectively."
   ]
  },
  {
   "cell_type": "code",
   "execution_count": 6,
   "metadata": {},
   "outputs": [],
   "source": [
    "cond = (y_train == 0) + (y_train == 1)\n",
    "binary_x_train = x_train[cond,:]\n",
    "binary_y_train = y_train[cond]*1.\n"
   ]
  },
  {
   "cell_type": "code",
   "execution_count": 7,
   "metadata": {},
   "outputs": [],
   "source": [
    "binary_y_train[binary_y_train == 0] = -1\n",
    "binary_y_train[binary_y_train == 1] = 1"
   ]
  },
  {
   "cell_type": "markdown",
   "metadata": {},
   "source": [
    "#### Task 2.1\n",
    "Complete the function 'predict' below.\n",
    "#### inputs:\n",
    "\n",
    "+ $x\\in\\mathbb{R^{n*m}}$, with $n$ being the number of datapoints and $m$ being the feature dimensionality. \n",
    "+ $w \\in\\mathbb{R^m}$ is the parameter vector we wish to learn. \n",
    "+ $b \\in\\mathbb{R}$ is the corresponding bias.\n",
    "\n",
    "#### outputs: \n",
    "+ 'prediction'$\\in\\mathbb{R^n}$, a vector containing prediction values associated with $x$. "
   ]
  },
  {
   "cell_type": "code",
   "execution_count": 50,
   "metadata": {},
   "outputs": [],
   "source": [
    "def predict(x, w, b):\n",
    "    ######### Complete the function- x point ######### \n",
    "    linear_comb = np.dot(x, w) + b\n",
    "    if linear_comb > 0:\n",
    "        return 1\n",
    "    else:\n",
    "        return -1"
   ]
  },
  {
   "cell_type": "markdown",
   "metadata": {},
   "source": [
    "#### Task 2.2\n",
    "+ Use the funtion 'predict' above to implement the Single Layer Perceptron algorithm by completing the function 'optimize' defined below.\n",
    "    #### inputs:\n",
    "\n",
    "    + $x\\in\\mathbb{R^{n*m}}$, with $n$ being the number of datapoints and $m$ being the feature dimensionality. \n",
    "    + $w \\in\\mathbb{R^m}$ is the initial parameter vector.\n",
    "    + $b \\in\\mathbb{R}$ is the initial bias value.\n",
    "    + $y\\in\\mathbb{R^n}$ is the training labels associated with x.\n",
    "    #### outputs:\n",
    "    + $w$ is the optimized parameter vector.\n",
    "    + $b$ the corresponding learned bias.\n",
    "    + $\\text{error}$ is the classification error obtained.  \n",
    "    \n",
    "    \n",
    " \n",
    "    \n",
    "Use the learned parameters $w$, $b$ (obtained via function 'optimize') and the function 'predict' to return the classification accuracy on the test set using x_train and y_train as training data. \n",
    "\n",
    "- Demonstrate that your algorithm converges to a good local minima. Plot the training error curve vs. number of iterations. \n",
    "- Show what feature $w$ has learned and discuss why? (demonstrate $w$ as an image with the same size as inputs).\n",
    "\n",
    "- Repeat this training/testing procedure to classify different pairs. Report the accuracies of 5 pairs in a Table and dicuss why some are easier to classify than others.\n"
   ]
  },
  {
   "cell_type": "code",
   "execution_count": 53,
   "metadata": {},
   "outputs": [],
   "source": [
    "def predict_many(x, w, b):\n",
    "    pred = np.empty(len(x))\n",
    "    for i in range(len(x)):\n",
    "        pred[i] = predict(x[i], w, b)\n",
    "    return pred"
   ]
  },
  {
   "cell_type": "code",
   "execution_count": 88,
   "metadata": {},
   "outputs": [],
   "source": [
    "def loss(pred, y):\n",
    "    loss = 0\n",
    "    for pred_i, y_i in zip(pred, y):\n",
    "        if pred_i != y_i:\n",
    "            loss += 1\n",
    "    return loss/len(pred)"
   ]
  },
  {
   "cell_type": "code",
   "execution_count": 111,
   "metadata": {},
   "outputs": [],
   "source": [
    "def optimize(x, y, lr=0.003):\n",
    "    iter = 0\n",
    "    error=np.inf\n",
    "    n, m = x.shape\n",
    "    w = np.random.rand(m) # Initialize the w vector\n",
    "    b = np.random.rand()  # Initialize the b vector\n",
    "    hist = []\n",
    "    while (iter <= 1000) & (error > 1e-3):\n",
    "        idx = np.random.randint(n) # Get random index to update\n",
    "        prediction = predict(x[idx], w, b) # Predict one to update the bias\n",
    "        if prediction == y[idx]:\n",
    "            continue\n",
    "        err = y[idx] - prediction\n",
    "        w = w + lr * y[idx] * x[idx] # Update weights\n",
    "        b += lr * err # Update bias\n",
    "        if iter % 1 == 0: # Change when the loss is recorded and calculated\n",
    "            pred = predict_many(x, w, b)\n",
    "            error = loss(pred, y) # Update error\n",
    "            hist.append(error)\n",
    "        iter += 1\n",
    "    return w, b, error, hist"
   ]
  },
  {
   "cell_type": "code",
   "execution_count": 109,
   "metadata": {},
   "outputs": [],
   "source": [
    "the_w, the_b, training_error, hist = optimize(binary_x_train, binary_y_train)"
   ]
  },
  {
   "cell_type": "code",
   "execution_count": 123,
   "metadata": {},
   "outputs": [
    {
     "data": {
      "text/plain": [
       "<matplotlib.image.AxesImage at 0x7fc825884550>"
      ]
     },
     "execution_count": 123,
     "metadata": {},
     "output_type": "execute_result"
    },
    {
     "data": {
      "image/png": "[encoded data removed]",
      "text/plain": [
       "<Figure size 432x288 with 1 Axes>"
      ]
     },
     "metadata": {
      "needs_background": "light"
     },
     "output_type": "display_data"
    }
   ],
   "source": [
    "plt.imshow((the_w + the_b).reshape(28, 28))"
   ]
  },
  {
   "cell_type": "code",
   "execution_count": 119,
   "metadata": {},
   "outputs": [
    {
     "data": {
      "text/plain": [
       "<matplotlib.image.AxesImage at 0x7fc82592f9b0>"
      ]
     },
     "execution_count": 119,
     "metadata": {},
     "output_type": "execute_result"
    },
    {
     "data": {
      "image/png": "[encoded data removed]",
      "text/plain": [
       "<Figure size 432x288 with 1 Axes>"
      ]
     },
     "metadata": {
      "needs_background": "light"
     },
     "output_type": "display_data"
    }
   ],
   "source": [
    "plt.imshow(binary_x_train[1].reshape(28, 28))"
   ]
  },
  {
   "cell_type": "code",
   "execution_count": 110,
   "metadata": {},
   "outputs": [
    {
     "data": {
      "text/plain": [
       "Text(0, 0.5, 'Training error')"
      ]
     },
     "execution_count": 110,
     "metadata": {},
     "output_type": "execute_result"
    },
    {
     "data": {
      "image/png": "[encoded data removed]",
      "text/plain": [
       "<Figure size 432x288 with 1 Axes>"
      ]
     },
     "metadata": {
      "needs_background": "light"
     },
     "output_type": "display_data"
    }
   ],
   "source": [
    "plt.plot(hist)\n",
    "plt.grid()\n",
    "plt.title(\"Training error vs. Number of iterations\")\n",
    "plt.xlabel(\"Iterations\")\n",
    "plt.ylabel(\"Training error\")"
   ]
  },
  {
   "cell_type": "markdown",
   "metadata": {},
   "source": [
    "### 3: Multi Layer Perceptron (10 points)\n",
    "\n",
    "Multi Layer Perceptron (MLP) is a fully connected deep (more than one hidden layer) network. In this part of the coursework we will implement a 2 hidden layers MLP with Recified Linear Unit (ReLU) activations. We will train the model via ADAM optimizer over a cross-entropy loss function.\n",
    "\n",
    "First of all, we will convert our label vectors to matrices via one-hot encoding (e.g. $y=2$ would become $[0,0,1,0,0,0,0,0,0,0]$). This can be simply done using commands below:"
   ]
  },
  {
   "cell_type": "code",
   "execution_count": null,
   "metadata": {},
   "outputs": [],
   "source": [
    "y_train = np.eye(10)[y_train]\n",
    "y_test = np.eye(10)[y_test]"
   ]
  },
  {
   "cell_type": "markdown",
   "metadata": {},
   "source": [
    "Below, we define a class MLP. It is initialized via:  \n",
    "\n",
    "+ x_train: The training matrix.\n",
    "+ y_train: One hot encoding of the corresponding labels.\n",
    "+ lr: Learning rate used for ADAM optimizer\n",
    "+ nb_epochs: Number of epochs to use\n",
    "+ batch_size: The number of data point in each mini-batch\n",
    "+ output_dir: The directory where model parameters and tensorboard event files will be stored.\n",
    "\n",
    "We also define the methods: \n",
    "* 'create_model' which will desribe a neural network architecture of the form $[784, 1000, 1000, 10]$, each integer representing the number of neurons in a given layer while the length of the vector defines the number of layers accordingly. \n",
    "* 'compute_loss' which given the output of 'create_model' will calculate the cross-entropy loss of the mini-batches.\n",
    "* 'train' where we initiate a tensorflow session and perform the training iterations. \n",
    "* 'test' where we load our trained model and perform inference on the test set."
   ]
  },
  {
   "cell_type": "markdown",
   "metadata": {},
   "source": [
    "##### Task 3.1\n",
    "- Complete the method 'create_model' in order to implement a network of the shape $[784, 1000, 1000, 10]$, use ReLU as the non linear activation for hidden layers.\n",
    "\n",
    "   The function 'create_model' to complete defines the class variables: \n",
    "\n",
    "   + self.logits $\\in \\mathbb{R^{10}}$ containing the output __<font color='red'>without activation of the MLP.</font>__\n",
    "   + self.preds $\\in \\mathbb{R^{10}}$ containing posterior probabilities.\n",
    "\n",
    "- Using self.logits complete the method 'compute_loss' that takes the labels and the predicted logits to return the corresponfing cross-entropy loss. \n",
    "\n",
    "Hints: \n",
    "- You may use tf.layers.dense to implement a fully connected layer. \n",
    "- To obtain the probabilities you must normalize your outputs in a way that their sum is equal to one using a softmax function."
   ]
  },
  {
   "cell_type": "code",
   "execution_count": null,
   "metadata": {},
   "outputs": [],
   "source": [
    "class MLP:\n",
    "    def __init__(self, x_train, y_train, output_dir, lr=0.001, nb_epochs=10, batch_size=50):\n",
    "        self.nb_epochs = nb_epochs\n",
    "        self.lr = lr\n",
    "        self.batch_size = batch_size\n",
    "        self.nb_epochs = nb_epochs\n",
    "        self.nb_images, self.nb_features = x_train.shape\n",
    "        self.nb_iterations = self.nb_images // batch_size\n",
    "        self.output_dir = output_dir\n",
    "        self.im = tf.placeholder(tf.float32, [None, 784])\n",
    "        self.labels = tf.placeholder(tf.float32, [None, 10])\n",
    "        self.x_train = x_train\n",
    "        self.y_train = y_train\n",
    "        \n",
    "    def create_model(self):\n",
    "        with tf.variable_scope('MLP', reuse=tf.AUTO_REUSE):\n",
    "        ######### Complete the function ######### \n",
    "            self.logits = \n",
    "            self.preds =\n",
    "        #########################################\n",
    "    def compute_loss(self):\n",
    "        with tf.variable_scope('loss'):\n",
    "            ######### Complete the function ######### \n",
    "            self.loss = \n",
    "            #########################################\n",
    "            self.loss_summ = tf.summary.scalar(\"softmax_loss\", self.loss)\n",
    "            \n",
    "    def optimizer(self):\n",
    "        with tf.variable_scope('optimizer'):\n",
    "            optimizer = tf.train.AdamOptimizer(learning_rate=self.lr, beta1=0.5)\n",
    "            self.model_vars = tf.trainable_variables()\n",
    "            self.trainer = optimizer.minimize(self.loss, var_list=self.model_vars)"
   ]
  },
  {
   "cell_type": "markdown",
   "metadata": {},
   "source": [
    "Now that we defined our model, our loss and its optimizer. we can instantate the MLP class, initiate our variables, and start the tensorflow session:"
   ]
  },
  {
   "cell_type": "code",
   "execution_count": null,
   "metadata": {},
   "outputs": [],
   "source": [
    "model = MLP(x_train, y_train, './MLP_logdir/', 0.001, 2, 10)\n",
    "model.create_model()\n",
    "model.compute_loss()\n",
    "model.optimizer()\n",
    "init = (tf.global_variables_initializer(),\n",
    "        tf.local_variables_initializer())\n",
    "\n",
    "saver = tf.train.Saver()\n",
    "summary =tf.Summary()\n",
    "sess = tf.InteractiveSession()\n",
    "sess.run(init)\n",
    "writer = tf.summary.FileWriter(model.output_dir)\n",
    "writer.add_graph(sess.graph)\n",
    "if not os.path.exists(model.output_dir):\n",
    "    os.makedirs(model.output_dir)\n"
   ]
  },
  {
   "cell_type": "markdown",
   "metadata": {},
   "source": [
    "We can now start training. We loop over the training data points and we feed them to the session in mini-batches form. we repeat this process several times (for several epochs). "
   ]
  },
  {
   "cell_type": "code",
   "execution_count": null,
   "metadata": {},
   "outputs": [],
   "source": [
    "for epoch in range(model.nb_epochs):\n",
    "    randomize = np.arange(x_train.shape[0])\n",
    "    np.random.shuffle(randomize)\n",
    "    x_in = model.x_train[randomize,:]\n",
    "    y_in = model.y_train[randomize,:]\n",
    "    for i in range(model.nb_iterations):\n",
    "        input_x_train = x_in[i*model.batch_size: (i+1)*model.batch_size]\n",
    "        input_y_train = y_in[i*model.batch_size: (i+1)*model.batch_size]\n",
    "        _ , preds, loss, loss_summ = sess.run([model.trainer, model.preds, model.loss, model.loss_summ], \n",
    "                                 feed_dict={model.im: input_x_train, \n",
    "                                            model.labels: input_y_train})\n",
    "        y_preds = np.argmax(preds, axis=1)\n",
    "        y_real = np.argmax(input_y_train, axis=1)\n",
    "        acc_train = np.mean((y_preds==y_real)*1)\n",
    "        print('Epoch %d, Iteration %d, loss %.3f, batch accuracy %.3f' %(epoch, i, loss, acc_train))\n",
    "        writer.add_summary(loss_summ, epoch * model.nb_iterations + i)\n",
    "    saver.save(sess, model.output_dir, global_step=epoch)  \n",
    "# sess.close()"
   ]
  },
  {
   "cell_type": "markdown",
   "metadata": {},
   "source": [
    "During and after training visualize the training and the created graph via tensorboard. Tensorboard is accessible via the command \"tensorboard --logdir=#yourlogdir#\". Check out https://www.tensorflow.org/guide/summaries_and_tensorboard for more details."
   ]
  },
  {
   "cell_type": "markdown",
   "metadata": {},
   "source": [
    "Similarly we loop over the test dataset and get the test accuracy via:"
   ]
  },
  {
   "cell_type": "code",
   "execution_count": null,
   "metadata": {},
   "outputs": [],
   "source": [
    "batch_size_test = 20\n",
    "nb_test_points = x_test.shape[0] \n",
    "nb_iterations = nb_test_points//batch_size_test\n",
    "preds = []\n",
    "for i in range(nb_iterations):\n",
    "    input_x_test = x_test[i*batch_size_test: (i+1)*batch_size_test]\n",
    "    preds_test = sess.run(model.preds, \n",
    "                             feed_dict={model.im: input_x_test})\n",
    "    preds.append(np.argmax(preds_test, axis=1))\n",
    "    if np.mod(nb_test_points, batch_size_test) !=0:\n",
    "        input_x_test = x_test[i*batch_size_test: -1]\n",
    "        preds_test = sess.run(model.preds, \n",
    "                             feed_dict={model.im: input_x_test})\n",
    "        preds.append(np.argmax(preds, axis=1))\n",
    "all_preds = np.concatenate(preds, axis =0)\n",
    "y_real = np.argmax(y_test, axis=1)\n",
    "acc_test = np.mean((all_preds==y_real)*1)\n",
    "print('Test accuracy achieved: %.3f' %acc_test)"
   ]
  },
  {
   "cell_type": "markdown",
   "metadata": {},
   "source": [
    "\n",
    "- Include a figure to visualize your training & testing(see below) performances during iterations and discuss your observations in your report.\n",
    "\n",
    "\n",
    "We now close the tensorflow session:"
   ]
  },
  {
   "cell_type": "code",
   "execution_count": null,
   "metadata": {},
   "outputs": [],
   "source": [
    "sess.close()"
   ]
  },
  {
   "cell_type": "markdown",
   "metadata": {},
   "source": [
    "##### Task 3.2\n",
    "Using a similar format as before, discuss how the number of layers affects the classification accuracy. \n",
    "- Train four different networks with more hidden layers for example 3,4,5 and 7 hidden layers (choice is yours here to make a good conclusion). Choose an appropriate width i.e. number of neurons per layer so to achieve good accuracy and feasible training time. How many paramters (weights/biases) do these models have? How do they compare to the former MLP you implemented? \n",
    "- Compare the classification accuracies of these networks with the previous MLP.\n",
    "\n",
    "\n",
    "- Plot a graph showing the accuracy vs. depth v.s. complexity (number of paramters) of the all five MLPs with different depths/widths. Additionally report the results in a Table. Discuss the results and provide conclusion. \n"
   ]
  },
  {
   "cell_type": "code",
   "execution_count": null,
   "metadata": {},
   "outputs": [],
   "source": []
  },
  {
   "cell_type": "markdown",
   "metadata": {},
   "source": [
    "### 4. Convolutional Neural Network (10 points)\n",
    "Now that we are more familiar with the MLP algorithm, it is time to see how it compares with a Convolutional Neural Network (CNN). CNNs leverage dependencies between neighbouring pixels, making them more efficient and light weight compared to their fully connected counter part. In this section we will implement a Class CNN similar to the one we defined before for MLP."
   ]
  },
  {
   "cell_type": "markdown",
   "metadata": {},
   "source": [
    "##### Task 4.1\n",
    "Complete the function 'create_model' of the class CNN above. Implement a CNN of the shape [32, 64, 128]; where 32, 64, 128 represent the number of convolutional filters for each hidden layer. We will use a kernel size of size $4\\times4$. \n",
    "\n",
    "Use a stride of 1 in the first convolutional layer, followed by a stride of 2 for the following layers (a stride of two help downsampling without requiring the use of pooling layers). Vectorize the obtained output using tf.layer.flatten, and end the model with a fully connected layer of 10 neurons. Use ReLU as the non linear activation for the hidden layers.\n",
    "\n",
    "   The function 'create_model' to complete defines the class variables: \n",
    "\n",
    "   + self.logits $\\in \\mathbb{R^{10}}$ containing the output without activation of the last __<font color='red'>fully connected layer</font>.__ \n",
    "\n",
    "   + self.preds $\\in \\mathbb{R^{10}}$ containing posterior probabilities.\n",
    "\n",
    "- Using self.logits complete the method 'compute_loss' that takes the labels and the predicted logits to return the corresponfing cross-entropy loss. \n",
    "\n",
    "Hints: \n",
    "+ You may use tf.layers.conv2d to implement a convolutional layer. \n",
    "+ To obtain the probabilities you must normalize your outputs in a way that their sum is equal to one using a softmax function."
   ]
  },
  {
   "cell_type": "code",
   "execution_count": null,
   "metadata": {},
   "outputs": [],
   "source": [
    "class CNN:\n",
    "    def __init__(self, x_train, y_train, output_dir, lr=0.001, nb_epochs=10, batch_size=50):\n",
    "        self.nb_epochs = nb_epochs\n",
    "        self.lr = lr\n",
    "        self.batch_size = batch_size\n",
    "        self.nb_epochs = nb_epochs\n",
    "        self.nb_images, self.edge, _ = x_train.shape\n",
    "        self.nb_iterations = self.nb_images // batch_size\n",
    "        self.output_dir = output_dir\n",
    "        self.im = tf.placeholder(tf.float32, [None, 28, 28, 1])\n",
    "        self.labels = tf.placeholder(tf.float32, [None, 10])\n",
    "        self.x_train = x_train[:,:,:, np.newaxis]\n",
    "        self.y_train = y_train\n",
    "        \n",
    "    def create_model(self):\n",
    "        with tf.variable_scope('CNN', reuse=tf.AUTO_REUSE):\n",
    "            ######### Complete the function ######### \n",
    "            self.logits = \n",
    "            self.preds =\n",
    "            #########################################\n",
    "    \n",
    "    def compute_loss(self):\n",
    "        with tf.variable_scope('loss'):\n",
    "            ######### Complete the function ######### \n",
    "            self.loss\n",
    "            #########################################\n",
    "            self.loss_summ = tf.summary.scalar(\"softmax_loss\", self.loss)\n",
    "    def optimizer(self):\n",
    "        with tf.variable_scope('optimizer'):\n",
    "            optimizer = tf.train.AdamOptimizer(learning_rate=self.lr, beta1=0.5)\n",
    "            self.model_vars = tf.trainable_variables()\n",
    "            self.trainer = optimizer.minimize(self.loss, var_list=self.model_vars)"
   ]
  },
  {
   "cell_type": "markdown",
   "metadata": {},
   "source": [
    "CNNs leverage dependencies between neighbouring pixels, however this information is partially lost when we vectorized our data. For training CNNs we will need to recover our initial shape of $N \\times 28 \\times 28$."
   ]
  },
  {
   "cell_type": "code",
   "execution_count": null,
   "metadata": {},
   "outputs": [],
   "source": [
    "edge = int(np.sqrt(nb_features))\n",
    "x_train.resize([n_train, edge, edge])\n",
    "x_test.resize([n_test, edge, edge])"
   ]
  },
  {
   "cell_type": "markdown",
   "metadata": {},
   "source": [
    "We instantiate our CNN class, start the corresponging tensorflow session and initiate the trainable variables. "
   ]
  },
  {
   "cell_type": "code",
   "execution_count": null,
   "metadata": {},
   "outputs": [],
   "source": [
    "model = CNN(x_train, y_train, './CNN_logdir/', 0.001, 2, 10)\n",
    "model.create_model()\n",
    "model.compute_loss()\n",
    "model.optimizer()\n",
    "init = (tf.global_variables_initializer(),\n",
    "        tf.local_variables_initializer())\n",
    "\n",
    "saver = tf.train.Saver()\n",
    "summary =tf.Summary()\n",
    "sess = tf.InteractiveSession()\n",
    "sess.run(init)\n",
    "writer = tf.summary.FileWriter(model.output_dir)\n",
    "writer.add_graph(sess.graph)\n",
    "if not os.path.exists(model.output_dir):\n",
    "    os.makedirs(model.output_dir)"
   ]
  },
  {
   "cell_type": "markdown",
   "metadata": {},
   "source": [
    "We start training:"
   ]
  },
  {
   "cell_type": "code",
   "execution_count": null,
   "metadata": {},
   "outputs": [],
   "source": [
    "for epoch in range(model.nb_epochs):\n",
    "    randomize = np.arange(x_train.shape[0])\n",
    "    np.random.shuffle(randomize)\n",
    "    x_in = model.x_train[randomize,:]\n",
    "    y_in = model.y_train[randomize,:]\n",
    "    for i in range(model.nb_iterations):\n",
    "        input_x_train = x_in[i*model.batch_size: (i+1)*model.batch_size]\n",
    "        input_y_train = y_in[i*model.batch_size: (i+1)*model.batch_size]\n",
    "        _ , preds, loss, loss_summ = sess.run([model.trainer, model.preds, model.loss, model.loss_summ], \n",
    "                                 feed_dict={model.im: input_x_train, \n",
    "                                            model.labels: input_y_train})\n",
    "        y_preds = np.argmax(preds, axis=1)\n",
    "        y_real = np.argmax(input_y_train, axis=1)\n",
    "        acc_train = np.mean((y_preds==y_real)*1)\n",
    "        print('Epoch %d, Iteration %d, loss %.3f, batch accuracy %.3f' %(epoch, i, loss, acc_train))\n",
    "        writer.add_summary(loss_summ, epoch * model.nb_iterations + i)\n",
    "    saver.save(sess, model.output_dir, global_step=epoch)  \n",
    "# sess.close()"
   ]
  },
  {
   "cell_type": "markdown",
   "metadata": {},
   "source": [
    "we loop over the test dataset and compute the corresponding classification accuracy. \n",
    "\n",
    "- Similar to Task 3.1, include a figure to visualize your training & testing(see below) performances during iterations and discuss your observations in your report. "
   ]
  },
  {
   "cell_type": "code",
   "execution_count": null,
   "metadata": {},
   "outputs": [],
   "source": [
    "batch_size_test = 20\n",
    "nb_test_points = x_test.shape[0] \n",
    "nb_iterations = nb_test_points//batch_size_test\n",
    "preds = []\n",
    "for i in range(nb_iterations):\n",
    "    input_x_test = x_test[i*batch_size_test: (i+1)*batch_size_test]\n",
    "    input_x_test = input_x_test[:, :, :,np.newaxis]\n",
    "    preds_test = sess.run(model.preds, \n",
    "                             feed_dict={model.im: input_x_test})\n",
    "    preds.append(np.argmax(preds_test, axis=1))\n",
    "    if np.mod(nb_test_points, batch_size_test) !=0:\n",
    "        input_x_test = x_test[i*batch_size_test: -1]\n",
    "        preds_test = sess.run(model.preds, \n",
    "                             feed_dict={model.im: input_x_test})\n",
    "        preds.append(np.argmax(preds, axis=1))\n",
    "all_preds = np.concatenate(preds, axis =0)\n",
    "y_real = np.argmax(y_test, axis=1)\n",
    "acc_test = np.mean((all_preds==y_real)*1)\n",
    "print('Test accuracy achieved: %.3f' %acc_test)"
   ]
  },
  {
   "cell_type": "markdown",
   "metadata": {},
   "source": [
    "##### Task 4.2\n",
    "Similar to task 3.2, discuss \n",
    "- Plot a graph showing complexity (number of paramters) vs. accuracy vs. depth of networks. For this part you need to train four additional CNNs of different depths/widths (again, your choice) and report the results in a Table. Discuss the results and provide conclusion.\n",
    "\n",
    "\n",
    "- In addition discuss and analyze the differences in term of performance, number of model parameters (i.e. weights/biases) and training/testing times between CNNs and MLPs. Provide a concusion. (For these discussions you should compare your results in Table 4.2 to Table 3.2)"
   ]
  },
  {
   "cell_type": "code",
   "execution_count": null,
   "metadata": {},
   "outputs": [],
   "source": []
  },
  {
   "cell_type": "markdown",
   "metadata": {},
   "source": [
    "### 5. Visualizing learned filters and activations (6 points)\n",
    "It is sometimes useful to visualize what kind of filters a CNN have learned. One way to do so is to plot each filter of size [kernel_size $\\times$ kerne_size]. \n",
    "\n",
    "- Once your CNN (in Question 6) is trained, access its filters via 'tf.get_collection' and plot them on a grid for each layer. What patterns do you observe, why?\n",
    "- In addition, plot the activations of each layer for two images chosen from digit-classes '2' and '9'. Discuss your observations\n",
    "\n",
    "Hint: \n",
    "+ Activations are for example the outputs of tf.layers.conv2D.\n",
    "+ Use tf.get_collection to access the learned filters of each layers. For this, you need to know how they are named (which can be accessed by tf.trainable_variables among other means of doing so).\n",
    "\n",
    "The plotted feature maps and learned filters should be plotted in the same way as in the images bellow. (left: Feature Maps, right: learned Filters)"
   ]
  },
  {
   "cell_type": "markdown",
   "metadata": {},
   "source": [
    "![Examples of activation maps (left), and learned features (right))](im.png)"
   ]
  },
  {
   "cell_type": "code",
   "execution_count": null,
   "metadata": {},
   "outputs": [],
   "source": []
  },
  {
   "cell_type": "code",
   "execution_count": null,
   "metadata": {},
   "outputs": [],
   "source": [
    "sess.close()"
   ]
  },
  {
   "cell_type": "markdown",
   "metadata": {},
   "source": [
    "### 6. Multi Task Learning (12 points)\n",
    "\n",
    "This question concerns the practice of multi-task learning (MTL). \n",
    "The aim of multi task learning is to leverage two (or more) related tasks in the learning process with the hope that leanring one task aids perfromance in learning the other task(s) and thus improves predicitve power for at least one (ideally all) of the tasks. \n",
    "\n",
    "There are two distinct flavours of MTL: Hard parameter  sharing and soft parameter sharing. We will be focusing on the former in this question.\n",
    "Hard paramter sharing occurs when two tasks share a common network which then splits into task specific paths (e.g. a series of convolutional layers with two paths of dense layers for two seperate tasks). \n",
    "\n",
    "In this question, you will explore the FASHION MNIST dataset and be coding up your own MTL model and considering the pros and cons of MTL compared to single task learning. "
   ]
  },
  {
   "cell_type": "markdown",
   "metadata": {},
   "source": [
    "We have written the code to pre-load this dataset and split it into two related tasks for you:\n",
    "\n",
    "- Task 1 - Clothing item 10 class classification (e.g. shoes, t-shirts etc) across 10 goups - $ y \\in \\mathbb{R^{10}} $\n",
    "- Task 2 - Clothing group three class classification - predicitng whether a viewed clothing image belongs to one of three groups - $ y \\in \\mathbb{R^{3}} $\n",
    "    - These groups are shoes (Sandal, Sneaker and Ankle Boot),  Gendered (Dress, Shirt and Bag) and Uni-Sex (T-shirt, Trouser, Pullover and Coat). \n",
    "\n",
    "\n",
    "#### Note : Alternativley use the tf.nn module. \n",
    "\n",
    "#### Note  : We advise the use of only a single epoch for this question for the sake of computation time.  However, if you want to utilise additional epochs feel free to do so just be aware of the longer training time and be consistent over all networks. "
   ]
  },
  {
   "cell_type": "code",
   "execution_count": null,
   "metadata": {},
   "outputs": [],
   "source": [
    "\"\"\"\n",
    "Code for loading the dataset\n",
    "\"\"\"\n",
    "import keras.datasets.fashion_mnist as fashion_mnist\n",
    "from keras.utils import to_categorical\n",
    "\n",
    "def load_data(): \n",
    "    # train_X: (60000, 28, 28)\n",
    "    # train_y: (60000,)\n",
    "    # test_X: (10000, 28, 28)\n",
    "    # test_y: (10000,)\n",
    "    (train_X, train_y_1), (test_X, test_y_1) = fashion_mnist.load_data()\n",
    "    n_class_1 = 10\n",
    "    # map to new label\n",
    "    train_y_2 = list(0 if y in [5, 7, 9] else 1 if y in [3, 6, 8] else 2 for y in train_y_1)  \n",
    "    test_y_2 = list(0 if y in [5, 7, 9] else 1 if y in [3, 6, 8] else 2 for y in test_y_1)\n",
    "    n_class_2 = 3\n",
    "    # train_X: (60000, 28, 28, 1)\n",
    "    # test_X: (10000, 28, 28, 1)\n",
    "    # train_y: (60000, n_class = 10)\n",
    "    # test_y: (10000, n_class = 3)\n",
    "    train_X = np.expand_dims(train_X, axis=3)\n",
    "    test_X = np.expand_dims(test_X, axis=3)\n",
    "    train_y_1 = to_categorical(train_y_1, n_class_1)\n",
    "    test_y_1 = to_categorical(test_y_1, n_class_1)\n",
    "    train_y_2 = to_categorical(train_y_2, n_class_2)\n",
    "    test_y_2 = to_categorical(test_y_2, n_class_2)\n",
    "    return train_X, train_y_1, train_y_2, test_X, test_y_1, test_y_2\n",
    "\n",
    "\n",
    "x_train, y_train_1, y_train_2, x_test, y_test_1, y_test_2 = load_data()"
   ]
  },
  {
   "cell_type": "markdown",
   "metadata": {},
   "source": [
    "#### Task 6.1\n",
    "\n",
    "In this question you will construct two seperate networks of identical structure (excpet the logits and pred layers) one for each of the two tasks.\n",
    "\n",
    "In other words, create a network for item classification and a network for item group classification. \n",
    "\n",
    "\n",
    "Complete the Task_1_NN and Task_2_NN below. These single task networks will form the basis of your work in this question. \n",
    "\n",
    "For the sake of convieience, we will use the same CNN filters as Question 4 - $[32, 64, 128]$. However our kernel size will be 3 $\\times$ 3 and a stride of 1 for all convolutional layers. Maxpooling layers will also need to be implemented after the first and second convolutional layers. These maxpooling layers have a kernel size of two and a stride of 2. \n",
    "\n",
    "After the final convolution, flatten the outputs and pass them to dense layers $[3136, 1024, 100 , N]$ where $N$ is the number of outputs required (10 or 3). \n",
    "\n",
    "As with Question 4, the function 'create_model' to be cpomplemted defines the class variables:\n",
    " - Task 1\n",
    "     - self.logits $\\in \\mathbb{R^{10}}$ containing the output without activation of the last __<font color='red'>fully connected (i.e. dense) layer</font>.__ \n",
    "     - self.preds $\\in \\mathbb{R^{10}}$ containing posterior probabilities.\n",
    " - Task 2\n",
    "      - self.logits $\\in \\mathbb{R^{3}}$ containing the output without activation of the last __<font color='red'>fully connected layer</font>.__ \n",
    "      - self.preds $\\in \\mathbb{R^{3}}$ containing posterior probabilities.\n",
    "      \n",
    "The method definitons remain the same  as in previous questions. \n",
    "      \n",
    "      \n",
    "#### Note: We advise you save the number of parameters and accuracy of the models in order to save time later. "
   ]
  },
  {
   "cell_type": "code",
   "execution_count": null,
   "metadata": {},
   "outputs": [],
   "source": [
    "class Task_1_NN():\n",
    "    def __init__(self, x_train, y_train_1,  output_dir, lr=0.001, nb_epochs=10, batch_size=50):\n",
    "        self.nb_epochs = nb_epochs\n",
    "        self.lr = lr\n",
    "        self.batch_size = batch_size\n",
    "        self.nb_epochs = nb_epochs\n",
    "        self.nb_images, self.edge, _, _ = x_train.shape\n",
    "        self.nb_iterations = self.nb_images // batch_size\n",
    "        self.output_dir = output_dir\n",
    "        self.x_train = x_train\n",
    "        self.y_train_1 = y_train_1\n",
    "        self.m = x_train.shape[0]\n",
    "        self.n_output_1 = y_train_1.shape[1]\n",
    "        \n",
    "        self.X = tf.placeholder(tf.float32, (None, 28, 28, 1), \"X\")\n",
    "        self.y_1 = tf.placeholder(tf.float32, (None, self.n_output_1), \"y_1\")\n",
    "    \n",
    "     def create_model(self):            \n",
    "        with tf.variable_scope(\"Task_1\", reuse=tf.AUTO_REUSE):\n",
    "            \n",
    "            ######### Complete the function ######### \n",
    "            self.logits = \n",
    "            self.preds =\n",
    "            #########################################\n",
    "                \n",
    "                \n",
    "                \n",
    "    def compute_loss(self):\n",
    "        with tf.variable_scope('loss'):\n",
    "            ######### Complete the function ######### \n",
    "            self.loss_task_1 = \n",
    "            #########################################\n",
    "            self.loss_summ = tf.summary.scalar(\"softmax_loss\", self.loss_task_1) \n",
    "                \n",
    "                \n",
    "    def optimizer(self):\n",
    "        with tf.variable_scope('optimizer', reuse=tf.AUTO_REUSE):\n",
    "            optimizer = tf.train.AdamOptimizer(learning_rate=self.lr, beta1=0.5)\n",
    "            self.model_vars = tf.trainable_variables()\n",
    "            self.trainer = optimizer.minimize(self.loss_task_1, var_list=self.model_vars)\n",
    "            \n"
   ]
  },
  {
   "cell_type": "code",
   "execution_count": null,
   "metadata": {},
   "outputs": [],
   "source": [
    "class Task_2_NN():\n",
    "    def __init__(self, x_train, y_train_2,  output_dir, lr=0.001, nb_epochs=10, batch_size=50):\n",
    "        self.nb_epochs = nb_epochs\n",
    "        self.lr = lr\n",
    "        self.batch_size = batch_size\n",
    "        self.nb_epochs = nb_epochs\n",
    "        self.nb_images, self.edge, _, _ = x_train.shape\n",
    "        self.nb_iterations = self.nb_images // batch_size\n",
    "        self.output_dir = output_dir\n",
    "        self.x_train = x_train\n",
    "        self.y_train_2 = y_train_2\n",
    "        self.m = x_train.shape[0]\n",
    "        self.n_output_2 = y_train_2.shape[1]\n",
    "        \n",
    "        self.X = tf.placeholder(tf.float32, (None, 28, 28, 1), \"X\")\n",
    "        self.y_2 = tf.placeholder(tf.float32, (None, self.n_output_2), \"y_2\")\n",
    "    \n",
    "     def create_model(self):            \n",
    "        with tf.variable_scope(\"Task_2\", reuse=tf.AUTO_REUSE):\n",
    "            \n",
    "            ######### Complete the function ######### \n",
    "            self.logits = \n",
    "            self.preds =\n",
    "            #########################################\n",
    "                \n",
    "                \n",
    "                \n",
    "    def compute_loss(self):\n",
    "        with tf.variable_scope('loss'):\n",
    "            ######### Complete the function ######### \n",
    "            self.loss_task_2 = \n",
    "            #########################################\n",
    "            self.loss_summ = tf.summary.scalar(\"softmax_loss\", self.loss_task_2) \n",
    "                \n",
    "                \n",
    "    def optimizer(self):\n",
    "        with tf.variable_scope('optimizer', reuse=tf.AUTO_REUSE):\n",
    "            optimizer = tf.train.AdamOptimizer(learning_rate=self.lr, beta1=0.5)\n",
    "            self.model_vars = tf.trainable_variables()\n",
    "            self.trainer = optimizer.minimize(self.loss_task_2, var_list=self.model_vars)"
   ]
  },
  {
   "cell_type": "markdown",
   "metadata": {},
   "source": [
    "#### Now train and test Task 1:"
   ]
  },
  {
   "cell_type": "code",
   "execution_count": null,
   "metadata": {},
   "outputs": [],
   "source": [
    "\n",
    "model_1 = Task_1_NN(x_train, y_train_1, './Task1_logdir/', 0.001, 2, 10)            \n",
    "model_1.create_model()     \n",
    "\n",
    "model_1.compute_loss()\n",
    "model_1.optimizer()   \n",
    "\n",
    "model_1.optimizer()\n",
    "init = (tf.global_variables_initializer(),\n",
    "        tf.local_variables_initializer())\n",
    "\n",
    "saver = tf.train.Saver()\n",
    "summary =tf.Summary()\n",
    "\n",
    "\n",
    "sess = tf.InteractiveSession()\n",
    "sess.run(init)\n",
    "writer = tf.summary.FileWriter(model_1.output_dir)\n",
    "writer.add_graph(sess.graph)\n",
    "if not os.path.exists(model_1.output_dir):\n",
    "    os.makedirs(model_1.output_dir)  \n",
    "\n",
    "\"\"\"\n",
    "Train\n",
    "\"\"\"\n",
    "\n",
    "for epoch in range(model_1.nb_epochs):\n",
    "    randomize = np.arange(x_train.shape[0])\n",
    "    np.random.shuffle(randomize)\n",
    "    x_in = model_1.x_train[randomize,:]\n",
    "    y_in_1 = model_1.y_train_1[randomize,:]\n",
    "    for i in range(model_1.nb_iterations):\n",
    "        input_x_train = x_in[i*model_1.batch_size: (i+1)*model_1.batch_size]\n",
    "        input_y_train_1 = y_in_1[i*model_1.batch_size: (i+1)*model_1.batch_size]\n",
    "        _ , preds_1, loss_1, loss_summ = sess.run([model_1.trainer, model_1.pred_1,  model_1.loss_task_1, model_1.loss_summ], \n",
    "                                 feed_dict={model_1.X: input_x_train, \n",
    "                                            model_1.y_1: input_y_train_1})\n",
    "\n",
    "        y_preds_1 = np.argmax(preds_1, axis=1)\n",
    "        y_real_1 = np.argmax(input_y_train_1, axis=1)\n",
    "        acc_train_1 = np.mean((y_preds_1==y_real_1)*1)\n",
    "        print('Epoch %d, Iteration %d, loss_1 %.3f,  batch accuracy_1 %.3f' %(epoch, i, loss_1,acc_train_1))\n",
    "        writer.add_summary(loss_summ, epoch * model_1.nb_iterations + i)\n",
    "    saver.save(sess, model_1.output_dir, global_step=epoch) \n",
    "end = time.time()"
   ]
  },
  {
   "cell_type": "code",
   "execution_count": null,
   "metadata": {},
   "outputs": [],
   "source": [
    "\"\"\"\n",
    "Test\n",
    "\"\"\"\n",
    "\n",
    "\n",
    "batch_size_test = 20\n",
    "nb_test_points = x_test.shape[0] \n",
    "nb_iterations = nb_test_points//batch_size_test\n",
    "preds_1 = []\n",
    "for i in range(nb_iterations):\n",
    "    input_x_test = x_test[i*batch_size_test: (i+1)*batch_size_test]\n",
    "    preds_test_1 = sess.run(model_1.pred_1, \n",
    "                             feed_dict={model_1.X: input_x_test})\n",
    "    preds_1.append(np.argmax(preds_test_1, axis=1))\n",
    "    if np.mod(nb_test_points, batch_size_test) !=0:\n",
    "        input_x_test = x_test[i*batch_size_test: -1]\n",
    "        preds_test_1= sess.run(model_1.pred_1, \n",
    "                             feed_dict={model_1.X: input_x_test})\n",
    "        preds_1.append(np.argmax(preds_test_1, axis=1))\n",
    "all_preds_1 = np.concatenate(preds_1, axis =0)\n",
    "y_real_1 = np.argmax(y_test_1, axis=1)\n",
    "print(all_preds_1)\n",
    "print(y_real_1)\n",
    "acc_test_1 = np.mean((all_preds_1==y_real_1)*1)\n",
    "print('Test accuracy - task 1 achieved: %.3f' %acc_test_1)"
   ]
  },
  {
   "cell_type": "code",
   "execution_count": null,
   "metadata": {},
   "outputs": [],
   "source": [
    "sess.close()"
   ]
  },
  {
   "cell_type": "markdown",
   "metadata": {},
   "source": [
    "#### Now train and test Task 2"
   ]
  },
  {
   "cell_type": "code",
   "execution_count": null,
   "metadata": {},
   "outputs": [],
   "source": [
    "model_2 = Task_2_NN(x_train, y_train_2, './Task2_logdir/', 0.001, 2, 10)            \n",
    "model_2.create_model()     \n",
    "\n",
    "model_2.compute_loss()\n",
    "model_2.optimizer()   \n",
    "\n",
    "model_2.optimizer()\n",
    "init = (tf.global_variables_initializer(),\n",
    "        tf.local_variables_initializer())\n",
    "\n",
    "saver = tf.train.Saver()\n",
    "summary =tf.Summary()\n",
    "\n",
    "\n",
    "sess = tf.InteractiveSession()\n",
    "sess.run(init)\n",
    "writer = tf.summary.FileWriter(model_2.output_dir)\n",
    "writer.add_graph(sess.graph)\n",
    "if not os.path.exists(model_2.output_dir):\n",
    "    os.makedirs(model_2.output_dir)\n",
    "\n",
    "\"\"\"\n",
    "Train\n",
    "\"\"\"\n",
    "for epoch in range(model_2.nb_epochs):\n",
    "    randomize = np.arange(x_train.shape[0])\n",
    "    np.random.shuffle(randomize)\n",
    "    x_in = model_2.x_train[randomize,:]\n",
    "    y_in_2 = model_2.y_train_2[randomize,:]\n",
    "    for i in range(model_2.nb_iterations):\n",
    "        input_x_train = x_in[i*model_2.batch_size: (i+1)*model_2.batch_size]\n",
    "        input_y_train_2 = y_in_2[i*model_2.batch_size: (i+1)*model_2.batch_size]\n",
    "        _ , preds_2, loss_2, loss_sum = sess.run([model_2.trainer, model_2.pred_2,  model_2.loss_task_2, model_2.loss_sum], \n",
    "                                 feed_dict={model_2.X: input_x_train, \n",
    "                                            model_2.y_2: input_y_train_2})\n",
    "        y_preds_2 = np.argmax(preds_2, axis=1)\n",
    "        y_real_2 = np.argmax(input_y_train_2, axis=1)\n",
    "        acc_train_2 = np.mean((y_preds_2==y_real_2)*1)\n",
    "        print('Epoch %d, Iteration %d, loss_2 %.3f, batch accuracy_2 %.3f' %(epoch, i, loss_2,acc_train_2))\n",
    "        writer.add_summary(loss_sum, epoch * model_2.nb_iterations + i)\n",
    "    saver.save(sess, model_2.output_dir, global_step=epoch) "
   ]
  },
  {
   "cell_type": "code",
   "execution_count": null,
   "metadata": {},
   "outputs": [],
   "source": [
    "\"\"\"\n",
    "Test\n",
    "\"\"\"\n",
    "batch_size_test = 20\n",
    "nb_test_points = x_test.shape[0]\n",
    "nb_iterations = nb_test_points//batch_size_test\n",
    "preds_2 = []\n",
    "for i in range(nb_iterations):\n",
    "    input_x_test = x_test[i*batch_size_test: (i+1)*batch_size_test]\n",
    "    preds_test_2 = sess.run(model_2.pred_2, \n",
    "                             feed_dict={model_2.X: input_x_test})\n",
    "    preds_2.append(np.argmax(preds_test_2, axis=1))\n",
    "    if np.mod(nb_test_points, batch_size_test) !=0:\n",
    "        input_x_test = x_test[i*batch_size_test: -1]\n",
    "        preds_test_2= sess.run([model_2.pred_2], \n",
    "                             feed_dict={model_2.X: input_x_test})\n",
    "        preds_2.append(np.argmax(preds_test_2, axis=1))\n",
    "all_preds_2 = np.concatenate(preds_2, axis =0)\n",
    "y_real_2 = np.argmax(y_test_2, axis=1)\n",
    "acc_test_2 = np.mean((all_preds_2==y_real_2)*1)\n",
    "\n",
    "print('Test accuracy - task 2 achieved: %.3f' %acc_test_2) \n"
   ]
  },
  {
   "cell_type": "code",
   "execution_count": null,
   "metadata": {},
   "outputs": [],
   "source": [
    "sess.close()"
   ]
  },
  {
   "cell_type": "markdown",
   "metadata": {},
   "source": [
    "#### Task 6.2 - Building a MTL Network\n",
    "\n",
    "In this question, we wish for you to complete the MTL class below and use it to train and test a MTL model on the two MNIST fashion tasks. \n",
    "\n",
    "Similar to Questions 3 and 4, our MTL class is initiliased via\n",
    " - x_train, the training matrix\n",
    " - y_train_1, the fashion labels for task 1 (Fashion Item  classification)\n",
    " - y_train_2, the labels for task 2 (Fashion Group classification)\n",
    " - $\\lambda \\in [0,1]$ , lambda_, the loss weight for task 1 (1- $\\lambda$) is the loss weight for task 2\n",
    " - output_dir, the directory where model parameters and tensorbaord event files will be stored. \n",
    " - lr, the learning rate of the ADAM optimiser \n",
    " - nb_epochs, the number of epochs to use\n",
    " - batch_size, the number of data points in each mini-batch\n",
    "\n",
    "Our MTL architecture will be comprised of a shared CNN backbone of three convolutional layers and a single shared dense layer with pooling between the first two pairs of convolutions.  The output of the shared dense layer is passed to two series of task specific dense layers, one for each of the two tasks. \n",
    "\n",
    "The architecture is as follows:\n",
    " - Shared Convolutional layers $[32, 64, 128]$ with max pooling after the first and second conv layers\n",
    "     - kernel size ($ 3 \\times 3$) for conv and ($2 \\times 2$) for max pool\n",
    "     - stride 1 for conv and 2 for max pooling\n",
    " - Flatten \n",
    " - Shared Dense Layer $[3136]$ - the outputs of which are passed to the two task dense layers\n",
    " - Task 1 Dense Layers $[1024, 100, 10]$ - 10 is the dimenson of the logits/preds\n",
    " - Task 2 Dense Layers $[1024, 100, 3]$ - 3 is the dimenson of the logits/preds \n",
    " - Task 1 Activation Layer - as earlier we use softmax\n",
    " - Task 2 Activation Layer  - as earlier we use softmax"
   ]
  },
  {
   "cell_type": "markdown",
   "metadata": {},
   "source": [
    "This architecture is illustrated in the figure below minus the flattening layer.\n",
    "\n",
    "\n",
    "<img src=\"mtl_2.jpg\" alt=\"The MTL network\" title=\"MTL Architecture\" />\n",
    "\n",
    " \n",
    " The function 'create_model' defines the class variables:\n",
    "  - self.logits_1 $\\in \\mathbb{R^{10}}$ containing the output without activation of the last <font color='red'>fully connected layer</font> of the Task 1 task layers. \n",
    "  - self.logits_2 $\\in \\mathbb{R^{3}}$ containing the output without activation of the last <font color='red'>fully connected layer</font> of the Task 2 task layers\n",
    "  - self.preds_1 $\\in \\mathbb{R^{10}}$ containing posterior probabilities for the first task.\n",
    "  - self.preds_2 $\\in \\mathbb{R^{3}}$ containing posterior probabilities for the second task.\n",
    "  \n",
    "As above, use self.logits to complete the method 'compute_loss' that takes the labels and the predicted logits to return the corresponfing cross-entropy loss albeit for each task. \n",
    "\n",
    "The total loss which is a sum of the weighted losses from tasks 1 and 2 ($\\lambda * L_1 + (1-\\lambda) * L_2$) is passed to the optimiser. \n",
    "\n",
    "#### For this question set $\\lambda$ to be 0.5 for equal weighting. \n",
    "\n",
    " #### Note: Do not worry about the optimiser - we still only need one optimiser for joint training of the MTL network \n",
    "      - The tasks can be trained alternately but this has its drawbacks"
   ]
  },
  {
   "cell_type": "code",
   "execution_count": null,
   "metadata": {},
   "outputs": [],
   "source": [
    "class MTL:\n",
    "    def __init__(self, x_train, y_train_1, y_train_2, lambda_, output_dir, lr=0.001, nb_epochs=10, batch_size=50):\n",
    "        self.nb_epochs = nb_epochs\n",
    "        self.lr = lr\n",
    "        self.batch_size = batch_size\n",
    "        self.nb_epochs = nb_epochs\n",
    "        self.nb_images, self.edge, _, _ = x_train.shape\n",
    "        self.nb_iterations = self.nb_images // batch_size\n",
    "        self.output_dir = output_dir\n",
    "        self.x_train = x_train\n",
    "        self.y_train_1 = y_train_1\n",
    "        self.y_train_2 = y_train_2\n",
    "        self.lambda_ = lambda_\n",
    "        \n",
    "        self.m = x_train.shape[0]\n",
    "        self.n_output_1 = y_train_1.shape[1]\n",
    "        self.n_output_2 = y_train_2.shape[1]\n",
    "        \n",
    "        self.X = tf.placeholder(tf.float32, (None, 28, 28, 1), \"X\")\n",
    "        self.y_1 = tf.placeholder(tf.float32, (None, self.n_output_1), \"y_1\")\n",
    "        self.y_2 = tf.placeholder(tf.float32, (None, self.n_output_2), \"y_2\")\n",
    "\n",
    "    \n",
    "    def create_model(self):            \n",
    "        with tf.variable_scope(\"MTL\", reuse=tf.AUTO_REUSE):\n",
    "            \n",
    "            ### Complete the function #####\n",
    "            \n",
    "            self.logits_1 = \n",
    "            self.pred_1 = \n",
    "            \n",
    "            self.logits_2 = \n",
    "            self.pred_2 = \n",
    "        \n",
    "    def compute_loss(self):\n",
    "        with tf.variable_scope('loss'):\n",
    "            ######### Complete the function ######### \n",
    "            self.loss_task_1 =\n",
    "\n",
    "            self.loss_task_2 = \n",
    "\n",
    "            self.loss_total = self.lambda_*self.loss_task_1 + (1-self.lambda_)*self.loss_task_2 \n",
    "            #########################################\n",
    "            self.loss_task_1_graph = tf.summary.scalar(\"softmax_loss_task_1\", self.loss_task_1) \n",
    "            self.loss_task_2_graph = tf.summary.scalar(\"softmax_loss_task_2\", self.loss_task_2)             \n",
    "            self.loss_sum = tf.summary.scalar(\"softmax_loss\", self.loss_total) \n",
    "            \n",
    "                \n",
    "                \n",
    "    def optimizer(self):\n",
    "        with tf.variable_scope('optimizer', reuse=tf.AUTO_REUSE):\n",
    "            optimizer = tf.train.AdamOptimizer(learning_rate=self.lr, beta1=0.5)\n",
    "            self.model_vars = tf.trainable_variables()\n",
    "            self.trainer = optimizer.minimize(self.loss_total, var_list=self.model_vars)"
   ]
  },
  {
   "cell_type": "code",
   "execution_count": null,
   "metadata": {},
   "outputs": [],
   "source": [
    "\"\"\"\n",
    "Create model and initialise it and tensorflow session\n",
    "\"\"\"\n",
    "\n",
    "\n",
    "model = MTL(x_train, y_train_1, y_train_2, 0.5, './MTL_logdir/', 0.001, 2, 10)             #       \n",
    "model.create_model()     \n",
    "\n",
    "model.compute_loss()\n",
    "model.optimizer()   \n",
    "\n",
    "model.optimizer()\n",
    "init = (tf.global_variables_initializer(),\n",
    "        tf.local_variables_initializer())\n",
    "\n",
    "saver = tf.train.Saver()\n",
    "summary =tf.Summary()\n",
    "\n",
    "\n",
    "sess = tf.InteractiveSession()\n",
    "sess.run(init)\n",
    "writer = tf.summary.FileWriter(model.output_dir)\n",
    "writer.add_graph(sess.graph)\n",
    "if not os.path.exists(model.output_dir):\n",
    "    os.makedirs(model.output_dir) "
   ]
  },
  {
   "cell_type": "markdown",
   "metadata": {},
   "source": [
    "##### Now train and test your MTL model"
   ]
  },
  {
   "cell_type": "code",
   "execution_count": null,
   "metadata": {},
   "outputs": [],
   "source": [
    "\"\"\"\n",
    "Train\n",
    "\"\"\"\n",
    "\n",
    "\n",
    "\n",
    "for epoch in range(model.nb_epochs):\n",
    "    randomize = np.arange(x_train.shape[0])\n",
    "    np.random.shuffle(randomize)\n",
    "    x_in = model.x_train[randomize,:]\n",
    "    y_in_1 = model.y_train_1[randomize,:]\n",
    "    y_in_2 = model.y_train_2[randomize,:]\n",
    "    for i in range(model.nb_iterations):\n",
    "        input_x_train = x_in[i*model.batch_size: (i+1)*model.batch_size]\n",
    "        input_y_train_1 = y_in_1[i*model.batch_size: (i+1)*model.batch_size]\n",
    "        input_y_train_2 = y_in_2[i*model.batch_size: (i+1)*model.batch_size]\n",
    "        _ , preds_1, preds_2, loss_1, loss_2, loss_summ= sess.run([model.trainer, model.pred_1, model.pred_2, model.loss_task_1, model.loss_task_2, model.loss_sum], \n",
    "                                 feed_dict={model.X: input_x_train, \n",
    "                                            model.y_1: input_y_train_1,\n",
    "                                            model.y_2: input_y_train_2})\n",
    "\n",
    "        y_preds_1 = np.argmax(preds_1, axis=1)\n",
    "        y_preds_2 = np.argmax(preds_2, axis=1)\n",
    "        y_real_1 = np.argmax(input_y_train_1, axis=1)\n",
    "        y_real_2 = np.argmax(input_y_train_2, axis=1)\n",
    "        acc_train_1 = np.mean((y_preds_1==y_real_1)*1)\n",
    "        acc_train_2 = np.mean((y_preds_2==y_real_2)*1)\n",
    "        print('Epoch %d, Iteration %d, loss_1 %.3f, loss_2 %.3f, batch accuracy_1 %.3f, batch accuracy_2 %.3f' %(epoch, i, loss_1, loss_2, acc_train_1, acc_train_2))\n",
    "        writer.add_summary(loss_summ, epoch * model.nb_iterations + i)\n",
    "    saver.save(sess, model.output_dir, global_step=epoch) \n",
    "end = time.time()\n",
    "\n"
   ]
  },
  {
   "cell_type": "code",
   "execution_count": null,
   "metadata": {},
   "outputs": [],
   "source": [
    "\"\"\"\n",
    "Test\n",
    "\"\"\"\n",
    "batch_size_test = 20\n",
    "nb_test_points = x_test.shape[0] \n",
    "nb_iterations = nb_test_points//batch_size_test\n",
    "preds_1 = []\n",
    "preds_2 = []\n",
    "for i in range(nb_iterations):\n",
    "    input_x_test = x_test[i*batch_size_test: (i+1)*batch_size_test]\n",
    "    preds_test_1, preds_test_2 = sess.run([model.pred_1, model.pred_2], \n",
    "                             feed_dict={model.X: input_x_test})\n",
    "    preds_1.append(np.argmax(preds_test_1, axis=1))\n",
    "    preds_2.append(np.argmax(preds_test_2, axis=1))\n",
    "    if np.mod(nb_test_points, batch_size_test) !=0:\n",
    "        input_x_test = x_test[i*batch_size_test: -1]\n",
    "        preds_test_1, preds_test_2 = sess.run([model.pred_1, model.pred_2], \n",
    "                             feed_dict={model.X: input_x_test})\n",
    "        preds_1.append(np.argmax(preds_test_1, axis=1))\n",
    "        preds_2.append(np.argmax(preds_test_2, axis=1))\n",
    "all_preds_1 = np.concatenate(preds_1, axis =0)\n",
    "all_preds_2 = np.concatenate(preds_2, axis =0)\n",
    "y_real_1 = np.argmax(y_test_1, axis=1)\n",
    "y_real_2 = np.argmax(y_test_2, axis=1)\n",
    "acc_test_1 = np.mean((all_preds_1==y_real_1)*1)\n",
    "acc_test_2 = np.mean((all_preds_2==y_real_2)*1)\n",
    "print('Test accuracy - task 1 achieved: %.3f' %acc_test_1)\n",
    "print('Test accuracy - task 2 achieved: %.3f' %acc_test_2)"
   ]
  },
  {
   "cell_type": "code",
   "execution_count": null,
   "metadata": {},
   "outputs": [],
   "source": [
    "sess.close()"
   ]
  },
  {
   "cell_type": "markdown",
   "metadata": {},
   "source": [
    "#### Discuss the performance of the MTL network compared to the single task networks. What do think are the most important things to consider when using MTL?"
   ]
  },
  {
   "cell_type": "markdown",
   "metadata": {},
   "source": [
    "##### Task 6.3\n",
    "\n",
    "In this task we want you to compare the MTL's results for different values of $\\lambda$. We want you to coampre $5$ different values of $\\lambda$ with the stipulation that two of them must be $0$ and $1$; the other 3 are up to you. All other hyperparameters (e.g. number of dense shared layers) can be left as they were in Task 6.2. \n",
    "\n",
    "Plot a graph showing the Task 1 and Task 2 accuracies against values of $\\lambda$. \n",
    "Comment on your results. \n",
    "Whats so special about the cases of $\\lambda = 0$ and $\\lambda = 1$?"
   ]
  },
  {
   "cell_type": "markdown",
   "metadata": {},
   "source": [
    "####  Task 6.4\n",
    "\n",
    "##### Similar to tasks  3.2 and 4.2\n",
    "\n",
    " - Plot a graph showing complexity (number of paramters) vs. accuracy for each of the to tasks in the MTL network. As above you will need to train four other additional MTL networks where you vary the number/size of the shared and  task specific layers (we advise not making the layers too large or too numerous to avoid very long training times). \n",
    " - You should also include plots of the number of parameters vs accuracy for the individual task 1 and 2 networks - use different colours to distinguish these single task networks.\n",
    "     - Note 1 : There is no need to train additional Task 1 and Task 2 networks simply use the formats from Question 6.1\n",
    "     - Note 2: For all MTL formats set $\\lambda$ to $0.5$ for equal weighting\n",
    "     - Note 3: Due to the sub task structure, we will ignore depth in this evaluation as the two tasks can have different depth levels in the MTL architecture. \n",
    "     - Note 4: It is advised to include pooling layers (we leave the type of pooling up to you but recommned maxpooling) for the sake of training time - alternativly use larger strides. \n",
    " \n",
    " - Discuss the effect of the number/size of the shared and task specific layers in terms of performance and training/testing times. Also compare the performance to the task specific networks from 6.1. \n",
    " \n",
    " - Discuss the main pros and cons for multi-task learning."
   ]
  },
  {
   "cell_type": "markdown",
   "metadata": {},
   "source": [
    "### 7. Denoising Auto-Encoder (10 points)\n",
    "\n",
    "While CNNs make very good classifiers, they can also be used for many various tasks such as regression, image generation, image reconstruction and so on. In this part of the coursework you should implement a fully convolutional de-noising auto-encoder, i.e. a network that takes a noisy image as input and outputs the corresponding cleaned output. In this exercise we will introduce a gaussian noise on each input. Our goal is to recover the original noiseless images in the output. We will be using the MNIST dataset here.\n",
    "\n",
    "Similarly as before we will define the class DAE, and you will need to complete the method 'create_model' and 'compute_loss' accordingly. \n",
    "\n",
    "Using the functions tf.layers.conv2d and tf.layers.conv2d_transpose complete the method 'create_model' in the class DAE below. \n",
    "\n",
    "conv2d should be used for the encoding part while conv2d_transpose should be used for the decoding part. \n",
    "We will use ReLu as the non linear activation for the hidden layers and tanh as the activation for the output layer. \n",
    "The network architecture is as follows:\n",
    "\n",
    "+ Encoding part: a series of conv2d layers with [32, 64, 128] filters of size 4\\times4, a stride of 1 in the first layer and a stride of 2 for the second and third layers.  \n",
    "+ Decodind part: a series of two conv2d_transpose followed by one, one strided conv2d with [64,32,1] filters of size 4\\times4. \n",
    "\n",
    "The output dimension of the final layer should match the input dimension [batch_size, 28, 28]. If necesseray use the argument padding or the function tf.pad to make the input and ouput dimensions match. \n",
    "\n",
    "Complete the method compute_loss. Note that we don't have a classification problem anymore but a regression problem consisting of reconstructing the noiseless version of the input."
   ]
  },
  {
   "cell_type": "code",
   "execution_count": null,
   "metadata": {},
   "outputs": [],
   "source": [
    "class DAE:\n",
    "    def __init__(self, x_train, output_dir, lr=0.001, nb_epochs=10, batch_size=50):\n",
    "        self.nb_epochs = nb_epochs\n",
    "        self.lr = lr\n",
    "        self.batch_size = batch_size\n",
    "        self.nb_epochs = nb_epochs\n",
    "        self.nb_images, self.edge, _ = x_train.shape\n",
    "        self.nb_iterations = self.nb_images // batch_size\n",
    "        self.output_dir = output_dir\n",
    "        self.im = tf.placeholder(tf.float32, [None, 28, 28,1])\n",
    "        self.im_n = self.im + tf.random_normal(tf.shape(self.im), mean=0, stddev=1) #inject noise\n",
    "        self.x_train = x_train\n",
    "        \n",
    "    def create_model(self):\n",
    "        with tf.variable_scope('DAE', reuse=tf.AUTO_REUSE):\n",
    "            ######### Complete the function ######### \n",
    "            self.recon_im = \n",
    "            #########################################\n",
    "            \n",
    "            tf.summary.image('denoising', tf.concat([self.im_n, self.recon_im], axis=2)\n",
    "    \n",
    "    def compute_loss(self):\n",
    "        with tf.variable_scope('loss'):\n",
    "            ######### Complete the function ######### \n",
    "            self.loss\n",
    "            #########################################\n",
    "            self.loss_summ = tf.summary.scalar(\"reconstruction_loss\", self.loss)\n",
    "                             \n",
    "    def optimizer(self):\n",
    "        with tf.variable_scope('optimizer'):\n",
    "            optimizer = tf.train.AdamOptimizer(learning_rate=self.lr, beta1=0.5)\n",
    "            self.model_vars = tf.trainable_variables()\n",
    "            self.trainer = optimizer.minimize(self.loss, var_list=self.model_vars)"
   ]
  },
  {
   "cell_type": "code",
   "execution_count": null,
   "metadata": {},
   "outputs": [],
   "source": [
    "model = DAE(x_train, './DAE_logdir/', 0.001, 2, 10)\n",
    "model.create_model()\n",
    "model.compute_loss()\n",
    "model.optimizer()\n",
    "init = (tf.global_variables_initializer(),\n",
    "        tf.local_variables_initializer())\n",
    "\n",
    "saver = tf.train.Saver()\n",
    "summary =tf.Summary()\n",
    "sess = tf.InteractiveSession()\n",
    "sess.run(init)\n",
    "writer = tf.summary.FileWriter(model.output_dir)\n",
    "writer.add_graph(sess.graph)\n",
    "if not os.path.exists(model.output_dir):\n",
    "    os.makedirs(model.output_dir)"
   ]
  },
  {
   "cell_type": "markdown",
   "metadata": {},
   "source": [
    "Similar to the previous questions, train the DAE by looping over all the mini-batches. For proper training you should input enough noisy versions per image. \n",
    "- Plot the training/validation curves and discuss why your trained model is not under/over fitting.\n",
    "When the training is finished, inject noise into the test data and reconstruct them through a forward pass. For each test image, input 20 noisy versions of it and compute the average accuracies. \n",
    "\n",
    "- Test the robustness of the trained network to different levels of noise, demonstrate the results (figure or Table) and discuss them in your report. \n",
    "- Why this architecture is able to remove noise from data? "
   ]
  },
  {
   "cell_type": "code",
   "execution_count": null,
   "metadata": {},
   "outputs": [],
   "source": []
  },
  {
   "cell_type": "markdown",
   "metadata": {},
   "source": [
    "### Task 8 - Building a Variational AutoEncoder (VAE) 12 Points\n",
    "\n",
    "<br>\n",
    "\n",
    "#### Why use a VAE?\n",
    "\n",
    "<br>\n",
    "\n",
    "<p style='text-align: justify;'>\n",
    "Building on the standard AutoEncoder which was a way of learning some lower dimensional manifold the data could lie on, we want to impose a form of regularisation, that is, we want some topology structure. We want inputs to the AutoEncoder that have a certain structure to be mapped to similar areas in this lower dimensional latent space. But the standard AutoEncoder merely learns how to essentially compress data. In this task, we are interested in learning a more structured latent space where we can sample in this space to then generate a new image that theoretically belongs to the same dataset.\n",
    "    \n",
    "In this exercise, we will assume the structure in the latent space follows a standard bi-variate Gaussian i.e. mean $\\begin{bmatrix}0\\\\0\\end{bmatrix}$ and covariance $\\begin{bmatrix}1&0\\\\0&1\\end{bmatrix}$. This assumption is for simplicity but we can infact assume other distributions (outside the scope for this exercise). We will be using the MNIST dataset for this task.\n",
    "    \n",
    "</p>\n",
    "\n",
    "<br>\n",
    "\n",
    "#### Architecture\n",
    "\n",
    "<img src=\"vae-diagram.png\" alt=\"The Variational AutoEncoder\" title=\"VAE Architecture\" />\n",
    "\n",
    "<br>\n",
    "\n",
    "#### Notation\n",
    "\n",
    "<br>\n",
    "\n",
    "Before diving into some maths, lets define a few terms:\n",
    "1. $\\mathbf{X}$: the dataset distribution we wish to generate from\n",
    "2. $\\mathbf{z}$: the compressed latent variable which quantifies a set of attributes of our dataset\n",
    "3. $\\boldsymbol{\\theta}$ : the parameters for the ***encoder*** network\n",
    "4. $\\boldsymbol{\\phi}$: the parameters for the ***decoder*** network\n",
    "5. $p(\\mathbf{z})$: the probability of the compressed latent space (given it should follow a standard normal)\n",
    "6. $q_{\\boldsymbol{\\phi}}(\\mathbf{z}|\\mathbf{X})$: the conditional probability distribution of sampling the compressed latent variable given the dataset approximated by our encoder network with parameters $\\boldsymbol{\\phi}$\n",
    "7. $p_{\\boldsymbol{\\theta}}(\\mathbf{X}|\\mathbf{z})$: the conditional probability distribution of generating the dataset given the compressed latent space by our decoder network with parameters $\\boldsymbol{\\theta}$\n",
    "\n",
    "<br>\n",
    "\n",
    "#### Optimisation\n",
    "\n",
    "<br>\n",
    "\n",
    "The quantity we are interested in maximising for the $i$-th observation is:\n",
    "\n",
    "$\n",
    "\\begin{align}\n",
    "    \\log p (\\mathbf{x}_i) && \\text{which can be rewritten as...}\\\\\n",
    "    &= \\int_{\\mathbf{z}\\in\\mathcal{Z}} q_{\\boldsymbol{\\phi}}(\\mathbf{z}|\\mathbf{x}_i) \\log p (\\mathbf{x}_i) \\text{d}\\mathbf{z} & \\text{as the integral over a distribution is 1...}\\\\\n",
    "    &= \\int_{\\mathbf{z}\\in\\mathcal{Z}} q_{\\boldsymbol{\\phi}}(\\mathbf{z}|\\mathbf{x}_i)[\\log p (\\mathbf{z}|\\mathbf{x}_i) - \\log p(\\mathbf{z}) + \\log p_\\boldsymbol{\\theta}(\\mathbf{x}_i|\\mathbf{z})]\\text{d}\\mathbf{z} & \\text{consider Baye's rule...}\\\\\n",
    "    &= \\int_{\\mathbf{z}\\in\\mathcal{Z}} q_{\\boldsymbol{\\phi}}(\\mathbf{z}|\\mathbf{x}_i) \\log \\frac{p (\\mathbf{z}|\\mathbf{x}_i)}{q_{\\boldsymbol{\\phi}} (\\mathbf{z}|\\mathbf{x}_i)} - q_{\\boldsymbol{\\phi}}(\\mathbf{z}|\\mathbf{x}_i)\\log \\frac{p (\\mathbf{z})}{q_{\\boldsymbol{\\phi}} (\\mathbf{z}|\\mathbf{x}_i)} + q_{\\boldsymbol{\\phi}}(\\mathbf{z}|\\mathbf{x}_i) \\log p_\\boldsymbol{\\theta}(\\mathbf{x}_i|\\mathbf{z})\\text{d}\\mathbf{z}\\\\\n",
    "    &= \\text{D}_{\\text{KL}}(q_{\\boldsymbol{\\phi}}(\\mathbf{z}|\\mathbf{x}_i) || p (\\mathbf{z}|\\mathbf{x}_i)) - \\text{D}_{\\text{KL}}(q_{\\boldsymbol{\\phi}}(\\mathbf{z}|\\mathbf{x}_i) || p (\\mathbf{z})) + \\mathbb{E}_{q_{\\boldsymbol{\\phi}} (\\mathbf{z}|\\mathbf{x}_i)} [\\log p_{\\boldsymbol{\\theta}} (\\mathbf{x}_i|\\mathbf{z})]\\\\\n",
    "    &=  \\text{D}_{\\text{KL}}(q_{\\boldsymbol{\\phi}}(\\mathbf{z}|\\mathbf{x}_i) || p (\\mathbf{z}|\\mathbf{x}_i)) + \\mathcal{L}(\\boldsymbol{\\theta}, \\boldsymbol{\\phi}; \\mathbf{x}_i) &\\text{where the last two terms have been grouped as $\\mathcal{L}$}\n",
    "\\end{align}\n",
    "$\n",
    "\n",
    "<br>\n",
    "\n",
    "\n",
    "As the first term in the line above is intractable to compute, we can say that $\\log p_\\boldsymbol{\\theta} (\\mathbf{x}_i) \\ge \\mathcal{L}(\\boldsymbol{\\theta}, \\boldsymbol{\\phi}; \\mathbf{x}_i)$ as the KL-divergence is a distance measure (and hence non-negative) and $\\mathcal{L}(\\boldsymbol{\\theta}, \\boldsymbol{\\phi}; \\mathbf{x}_i)$ is known as the **variational lower bound**. Instead of maximising the log probability directly, we can instead maximise this lower bound! If you are unfamiliar with the KL-divergence, check out this [Wikipedia](https://en.wikipedia.org/wiki/Kullback%E2%80%93Leibler_divergence).\n",
    "\n",
    "<br>\n",
    "\n",
    "The lower bound can be clearly seen as two main components:\n",
    "\n",
    "$\n",
    "\\begin{align}\n",
    "\\mathcal{L}(\\boldsymbol{\\theta}, \\boldsymbol{\\phi}; \\mathbf{x}_i) = \\color{blue}{\\mathbb{E}_{q_{\\boldsymbol{\\phi}} (\\mathbf{z}|\\mathbf{x}_i)} [\\log p_{\\boldsymbol{\\theta}} (\\mathbf{x}_i|\\mathbf{z})]} - \\color{green}{\\text{D}_{\\text{KL}}(q_{\\boldsymbol{\\phi}}(\\mathbf{z}|\\mathbf{x}_i) || p (\\mathbf{z}))}\n",
    "\\end{align}\n",
    "$\n",
    "+ <font color='blue'> How well can we reconstruct our original data from the latent space?</font>\n",
    "+ <font color='green'> How similar is the latent space to a standard Gaussian?</font>\n",
    "\n",
    "A remark on the second point - we are trying to find a Gaussian distribution manifold in latent space for our dataset. This is known as a *variational* method which should be part of the Bayesian Machine Learning module.\n",
    "\n",
    "<br>\n",
    "\n",
    "#### Derivations\n",
    "\n",
    "Given that $\\mathbf{\\hat{x}}_i$ is a draw from $p_{\\boldsymbol{\\theta}} (\\mathbf{x}_i|\\mathbf{z})\\sim\\mathcal{N}(\\mathbf{x},\\sigma^2\\mathbf{I})$, the expectation of $\\log p_{\\boldsymbol{\\theta}} (\\mathbf{x}_i|\\mathbf{z})$ can be computed as:\n",
    "\n",
    "$\n",
    "\\begin{align}\n",
    "\\mathbb{E}_{q_{\\boldsymbol{\\phi}} (\\mathbf{z}|\\mathbf{x}_i)} [\\log p_{\\boldsymbol{\\theta}} (\\mathbf{x}_i|\\mathbf{z})] &= -\\frac{m}{2}\\log 2\\pi\\sigma^2 - \\frac{1}{2}(\\mathbf{\\hat{x}}_i - \\mathbf{x}_i)^\\text{T}(\\sigma^2\\mathbf{I})^{-1}(\\mathbf{\\hat{x}}_i - \\mathbf{x}_i)\\\\\n",
    "\\mathbb{E}_{q_{\\boldsymbol{\\phi}} (\\mathbf{Z}|\\mathbf{X})} [\\log p_{\\boldsymbol{\\theta}} (\\mathbf{X}|\\mathbf{Z})] &\\propto \\sum_{i = 1}^{i = n}\\sum_{j = 1}^{j = m} (\\hat{x}_{ij} - x_{ij})^2 & \\text{as everything else is just a constant}\n",
    "\\end{align}\n",
    "$\n",
    "\n",
    "<font color='red'>Given that $q_{\\boldsymbol{\\phi}} (\\mathbf{z}|\\mathbf{x}_i) \\sim \\mathcal{N}(\\boldsymbol{\\mu}, \\boldsymbol{\\sigma}^2\\mathbf{I})$, derive the KL-divergence term between this and $p_\\boldsymbol{\\theta} (\\mathbf{z})$ i.e. $\\text{D}_{\\text{KL}} (\\mathcal{N}(\\boldsymbol{\\mu}, \\boldsymbol{\\sigma}^2\\mathbf{I}), \\mathcal{N}(0, \\mathbf{I}))$:</font>\n",
    "\n",
    "$\n",
    "\\begin{align}\n",
    "\\text{D}_{\\text{KL}} (\\mathcal{N}(\\boldsymbol{\\mu}, \\boldsymbol{\\sigma}^2\\mathbf{I}), \\mathcal{N}(0, \\mathbf{I})) &= \\int_{\\mathbf{z}\\in\\mathcal{Z}} ?\\text{ d}\\mathbf{z}\n",
    "\\end{align}\n",
    "$\n",
    "\n",
    "Further readings: There are many useful online tutorials that provide deep insight as how VAEs work or to implement them; for instace [tutorial1](https://arxiv.org/abs/1606.05908) [tutorial2](http://ruishu.io/2018/03/14/vae/). "
   ]
  },
  {
   "cell_type": "markdown",
   "metadata": {},
   "source": [
    "#### Defining the Data and Helper Functions"
   ]
  },
  {
   "cell_type": "code",
   "execution_count": null,
   "metadata": {},
   "outputs": [],
   "source": [
    "(x_train, y_train),(x_test, y_test) = mnist.load_data()\n",
    "\n",
    "image_size       = x_train.shape[1]\n",
    "original_dim     = image_size * image_size\n",
    "\n",
    "# Flatten each image to be a vector (you can try convolutional layers as an extension)\n",
    "x_train          = np.reshape(x_train, [-1, original_dim])\n",
    "x_test           = np.reshape(x_test, [-1, original_dim])\n",
    "x_train          = x_train.astype('float32') / 255\n",
    "x_test           = x_test.astype('float32') / 255\n",
    "\n",
    "# Visualisation parameters (for after the implementation of the VAE - start playing with these after the VAE seems to work!)\n",
    "n                = 29 # Number of digits to show per row / col\n",
    "dsize            = 28 # Digit size\n",
    "\n",
    "z1               = norm.ppf(np.linspace(0.01, 0.99, n))\n",
    "z2               = norm.ppf(np.linspace(0.01, 0.99, n))\n",
    "z_grid           = np.dstack(np.meshgrid(z1, z2))\n",
    "\n",
    "Zf               = lambda x : sess.run(z_mean, feed_dict = {t_X : x})\n",
    "Xf               = lambda z_grid : sess.run(t_X_hat, feed_dict = {z : z_grid.reshape(n * n, nlatent)}).reshape(n, n, dsize, dsize)\n",
    "\n",
    "def get_batch(*args, size):\n",
    "    \"\"\" Loops through each argument in batches of [size] \"\"\"\n",
    "    \n",
    "    n = len(args[0])\n",
    "    if size is None or size >= n:\n",
    "        yield from args\n",
    "        return None\n",
    "    r = np.random.permutation(n)\n",
    "    for i in range(n // size + 1):\n",
    "        yield (arg[r[i * size : (i + 1) * size]] for arg in args)\n",
    "        \n",
    "def visualise(X, y, sep = 2):\n",
    "     \"\"\" Visualise the mapped 2D manifold \"\"\"\n",
    "    # Feel free to modify this code for your visualisations...\n",
    "    \n",
    "    Z  = Zf(x_test)\n",
    "    Xh = Xf(z_grid)\n",
    "    \n",
    "    plt.figure(figsize = (12, 10))\n",
    "    plt.scatter(Z[:, 0], Z[:, 1], c = y)\n",
    "    plt.colorbar()\n",
    "    plt.xlabel(\"z[0]\")\n",
    "    plt.ylabel(\"z[1]\")\n",
    "    \n",
    "    plt.figure(figsize = (12, 10))\n",
    "    plt.imshow(np.block(list(map(list, Xh))), cmap = 'gray')\n",
    "    start_range    = dsize // 2\n",
    "    end_range      = n * dsize + start_range\n",
    "    pixel_range    = np.arange(start_range, end_range, dsize)\n",
    "    sample_range_x = np.round(z1, 2)\n",
    "    sample_range_y = np.round(z2, 2)\n",
    "    plt.xticks(pixel_range[::sep], sample_range_x[::sep])\n",
    "    plt.yticks(pixel_range[::sep], sample_range_y[::sep])"
   ]
  },
  {
   "cell_type": "markdown",
   "metadata": {},
   "source": [
    "#### Task 8.1 Implementation of VAE\n",
    "\n",
    "<br>\n",
    "\n",
    "The simpler implementation of the VAE is to build off the MLP i.e. no convolutional layers. The code below is designed for this but feel free to swap out this assumption for convolutions should you feel more confident. Feel free to add `tf.summary` definitions in a similar way to previous tasks for tensorboard visualisations.\n",
    "\n",
    " #### Note: If implementing task 8.1 in TF (as guided bellow) is not straightforward for you, use an easier option: [Keras](https://keras.io/examples/variational_autoencoder/) implementation of VAE. In these case, you will be marked down 4 points but you can immediately proceed to task 8.2. "
   ]
  },
  {
   "cell_type": "code",
   "execution_count": null,
   "metadata": {},
   "outputs": [],
   "source": [
    "# Hyperparameters...\n",
    "layers   = [512, 256, 128]\n",
    "nlatent  = 2\n",
    "batch    = 64\n",
    "epochs   = 20\n",
    "alpha    = 1e-3\n",
    "\n",
    "# General dtype to use\n",
    "dtype    = 'float32'\n",
    "\n",
    "# Number of features\n",
    "m        = x_train.shape[1]\n",
    "\n",
    "# Reset the graph to ensure blank graph initially...\n",
    "tf.reset_default_graph()\n",
    "\n",
    "# Define placeholder for 'X' data\n",
    "t_X      = tf.placeholder(dtype = dtype, shape = [None, m], name = 'X')\n",
    "\n",
    "# Define how t_X maps to the layer before the latent space\n",
    "with tf.name_scope('Encoder'):\n",
    "    h        = t_X\n",
    "    for i, layer in enumerate(layers, 1):\n",
    "        with tf.name_scope(f'Layer_{i}'):\n",
    "            ######### Map how we get from the previous layer to the next hidden layer #########\n",
    "            h    = \n",
    "    \n",
    "# Define how we get the mean and variance from the previous hidden layer\n",
    "with tf.name_scope('Latent'):\n",
    "    with tf.name_scope('Mean'):\n",
    "        z_mean   = \n",
    "\n",
    "    with tf.name_scope('Variance'):\n",
    "        z_var    = \n",
    "        \n",
    "    # Code the \"reparameterisation trick\"\n",
    "    with tf.name_scope('Sample'):\n",
    "        epsilon  = \n",
    "        z_sample = \n",
    "        z        = tf.placeholder_with_default(z_sample, shape = [None, nlatent], name = 'z')\n",
    "    \n",
    "# Define how \"z\" decodes to our reconstructed \"t_X\" estimate\n",
    "with tf.name_scope('Decoder'):\n",
    "    h        = z\n",
    "    for i, layer in enumerate(layers[::-1], 1):\n",
    "        with tf.name_scope(f'Layer_{i}'):\n",
    "            h    = \n",
    "    \n",
    "    with tf.name_scope('Final'):\n",
    "        t_X_hat  = \n",
    "\n",
    "# Define the loss function as defined in the derivation section\n",
    "with tf.name_scope('Loss'):\n",
    "    with tf.name_scope('AutoEncoder'):\n",
    "        # The normal AutoEncoder loss should measure how far our t_X_hat is from t_X\n",
    "        loss_ae  = \n",
    "        \n",
    "    with tf.name_scope('KL_Divergence'):\n",
    "        # The KL-divergence between z and a standard normal you derived earlier\n",
    "        loss_kl  = \n",
    "        \n",
    "    loss = tf.reduce_mean(loss_ae + loss_kl, name = 'loss')\n",
    "\n",
    "# Define final components before training the model\n",
    "optim    = tf.train.AdamOptimizer(alpha).minimize(loss)\n",
    "train    = {t_X : x_train}\n",
    "\n",
    "sess     = tf.InteractiveSession()\n",
    "writer   = tf.summary.FileWriter('./VAE_MLP_logdir', sess.graph)\n",
    "sess.run(tf.global_variables_initializer())\n",
    "\n",
    "# Gradient descent loop with verbose loss check...\n",
    "# Hopefully we see our loss reduce!\n",
    "for i in range(epochs):\n",
    "    losses  = []\n",
    "    for xb, in get_batch(x_train, size = batch):\n",
    "        nb = len(xb)\n",
    "        sess.run(optim, feed_dict = {t_X : xb})\n",
    "        losses.append(nb * sess.run(loss, feed_dict = {t_X : xb}))\n",
    "        print(f'\\rIteration {i:2d}: loss = {losses[-1] / nb:6,.2f}', end = '')\n",
    "    print(f'\\rIteration {i:2d}: loss = {sum(losses) / len(x_train):6,.2f}')"
   ]
  },
  {
   "cell_type": "markdown",
   "metadata": {},
   "source": [
    "#### Visualisation Check"
   ]
  },
  {
   "cell_type": "code",
   "execution_count": null,
   "metadata": {},
   "outputs": [],
   "source": [
    "visualise(x_test, y_test)"
   ]
  },
  {
   "cell_type": "markdown",
   "metadata": {},
   "source": [
    "####  Task 8.2\n",
    "\n",
    "<br>\n",
    "\n",
    " - Plot the learning curve for your VAE\n",
    " - Generate new handwritten digits from your model by sampling `Z` = $\\mathbf{z}\\in\\mathbb{R}^{n,2}$ and running `sess.run(t_X_hat, feed_dict = {z : Z))` in a separate code cell\n",
    "     - Discuss how good / bad are these images?\n",
    "         - Why are they good / bad? (consider the assumptions of your implementation of the VAE)\n",
    " - From observing your learnt manifold (by using the `visualise` function or otherwise), draw a comparison between the direct mapped points on your manifold (scatter plot) and the images that lay on the manifold (imshow)\n",
    "     - Why are some points images more mixed than others?\n",
    "     - Can we be smarter in where we should sample to get *better* generated handwritten digits?"
   ]
  },
  {
   "cell_type": "code",
   "execution_count": null,
   "metadata": {},
   "outputs": [],
   "source": []
  }
 ],
 "metadata": {
  "kernelspec": {
   "display_name": "Python 3",
   "language": "python",
   "name": "python3"
  },
  "language_info": {
   "codemirror_mode": {
    "name": "ipython",
    "version": 3
   },
   "file_extension": ".py",
   "mimetype": "text/x-python",
   "name": "python",
   "nbconvert_exporter": "python",
   "pygments_lexer": "ipython3",
   "version": "3.6.8"
  }
 },
 "nbformat": 4,
 "nbformat_minor": 1
}
